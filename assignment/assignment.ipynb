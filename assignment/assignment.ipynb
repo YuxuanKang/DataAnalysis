{
 "cells": [
  {
   "cell_type": "markdown",
   "metadata": {},
   "source": [
    "# Practical: Data Analysis\n",
    "\n",
    "In this assignment you will experiment with\n",
    "\n",
    "- exploring the data collected at a home and a weather station around the Eindhoven area,\n",
    "- building a predictive model for estimating the amount of electricity produced at the home given a weather forecast.\n",
    "\n",
    "This notebook will guide you through the typical steps that such work would involve. It shows how to build a simple linear model and your task is to improve on it, i.e. train a model that will provide a more accurate prediction than the simple one.\n",
    "\n",
    "#### Goal\n",
    "\n",
    "Your task is to train a model on the time series data containing:\n",
    "\n",
    "- measurements of the amount of electricity produced by the solar panels on the roof of a home in the Eindhoven area\n",
    "- weather measurements around the Eindhoven airport\n",
    "\n",
    "in order to predict the hourly solar panel output given the weather forecast for a particular hour of a particular day.\n",
    "\n",
    "#### Jupyter notebooks\n",
    "\n",
    "For those who are new to jupyter notebooks, a typical notebook contains text cells (like this one) interleaved with code cells (the gray boxes). You can execute a cell by selecting it and pressing Shift+Enter. The expression in the last line in a cell is the output of that cell. Try executing the following cell."
   ]
  },
  {
   "cell_type": "code",
   "execution_count": 1,
   "metadata": {
    "scrolled": true
   },
   "outputs": [
    {
     "data": {
      "text/plain": [
       "3"
      ]
     },
     "execution_count": 1,
     "metadata": {},
     "output_type": "execute_result"
    }
   ],
   "source": [
    "def add(a, b):\n",
    "    return a + b\n",
    "\n",
    "add(1,2)"
   ]
  },
  {
   "cell_type": "markdown",
   "metadata": {},
   "source": [
    "You can find out more about jupyter notbooks at:\n",
    "\n",
    "- https://jupyter-notebook-beginner-guide.readthedocs.io/en/latest/\n",
    "- http://nbviewer.jupyter.org/github/jupyter/notebook/blob/master/docs/source/examples/Notebook/Notebook%20Basics.ipynb\n",
    "- http://nbviewer.jupyter.org/github/jupyter/notebook/tree/master/docs/source/examples/Notebook/\n",
    "\n",
    "#### References\n",
    "\n",
    "The \"Python Data Scinence Handbook\" provides a good overview of using python for data data analysis and you are encouraged to consult it during this assignment:\n",
    "\n",
    "- https://jakevdp.github.io/PythonDataScienceHandbook/\n",
    "\n",
    "The \"Introduction to Statistical Learning\" [ISLR] book provides a good introduction to machine learning from the statistical perspective:\n",
    "\n",
    "- http://www-bcf.usc.edu/~gareth/ISL/\n",
    "\n",
    "#### Deliverable\n",
    "\n",
    "Throughout this notebook you will find cells starting with `#TODO` and `#BEGIN_TODO`. Fill in all these TODO cells. The `#TODO` cells are meant to guide you, while the `#BEGIN_TODO` _answer cells_ will be graded.\n",
    "\n",
    "- Answer cells start and end with tags, `BEGIN_TODO [Q0]` and `END_TODO [Q0]`, for example. Do not edit these tags in any way, else your answers may not be parsed by our grading system. \n",
    "- Your answers should be provided in Python code format between the tag lines, for example:\n",
    "```\n",
    "BEGIN_TODO [Q0]\n",
    "q0 = 1\n",
    "END_TODO [Q0]\n",
    "```\n",
    "- Do not place any other code between the tags, unless explicitly requested.\n",
    "- Do not reuse the variable names from the answer cells, so do not use `q0`, `q1`, etc in other cells.\n",
    "- If a question asks you to provide more than one answer, give the answer in the form of a list: `q0 = [1, 2]`. \n",
    "- Do not reference any variables from other cells in your answers, if you are asked for a value. Instead, copy whatever value you calculated in other cells to the answer cell manually.\n",
    "\n",
    "You are encouraged to play with the data and extend this notebook in order to obtain your answers. At the end, deliver the filled in `assignment.ipynb` file.\n",
    "\n",
    "**Important:** Before delivering your notebook, make sure that the cells in your notebook can be executed in sequence without errors, by executing \"Restart & Run All\" from the \"Kernel\" menu.\n",
    "\n",
    "Let's get started by filling in your details in the following answer cell. Assign your names and student ids to variables `name_student1`, `id_student1`, `name_student2`, `id_student2`, e.g.:\n",
    "\n",
    "```\n",
    "# // BEGIN_TODO [Q0]\n",
    "name_student1 = \"John Smith\"\n",
    "id_student1 = \"1234567\"\n",
    "name_student2 = \"Jane Miller\"\n",
    "id_student2 = \"7654321\"\n",
    "# // END_TODO [Q0]\n",
    "```"
   ]
  },
  {
   "cell_type": "code",
   "execution_count": 2,
   "metadata": {
    "collapsed": true
   },
   "outputs": [],
   "source": [
    "#// BEGIN_TODO [Q0]\n",
    "name_student1 = 'Liyin Xiao'\n",
    "id_student1 = '1371029'\n",
    "name_student2 = 'Xiangying Zhang'\n",
    "id_student2 = '1022663'\n",
    "#// END_TODO [Q0]"
   ]
  },
  {
   "cell_type": "markdown",
   "metadata": {},
   "source": [
    "### Import the relevant libraries\n",
    "\n",
    "In this assignment we will be using mainly the following libraries:\n",
    "\n",
    "- `pandas` for organizing the data\n",
    "- `numpy` for operating on the data\n",
    "- `matplotlib` for visualizing the data\n",
    "- `sklearn` for training and evaluating a model on the data\n",
    "- other utility libraries"
   ]
  },
  {
   "cell_type": "code",
   "execution_count": 3,
   "metadata": {
    "collapsed": true
   },
   "outputs": [],
   "source": [
    "%matplotlib inline\n",
    "import matplotlib.pyplot as plt\n",
    "import pandas as pd\n",
    "import numpy as np\n",
    "from sklearn.linear_model import *\n",
    "from sklearn.metrics import *\n",
    "from sklearn.model_selection import *\n",
    "import glob"
   ]
  },
  {
   "cell_type": "markdown",
   "metadata": {},
   "source": [
    "### Read the data\n",
    "\n",
    "The data resides in two files:"
   ]
  },
  {
   "cell_type": "code",
   "execution_count": 4,
   "metadata": {
    "scrolled": false
   },
   "outputs": [
    {
     "name": "stderr",
     "output_type": "stream",
     "text": [
      "C:\\Python35\\Lib\\site-packages\\IPython\\core\\interactiveshell.py:2698: DtypeWarning: Columns (5) have mixed types. Specify dtype option on import or set low_memory=False.\n",
      "  interactivity=interactivity, compiler=compiler, result=result)\n"
     ]
    },
    {
     "data": {
      "text/html": [
       "<div>\n",
       "<style scoped>\n",
       "    .dataframe tbody tr th:only-of-type {\n",
       "        vertical-align: middle;\n",
       "    }\n",
       "\n",
       "    .dataframe tbody tr th {\n",
       "        vertical-align: top;\n",
       "    }\n",
       "\n",
       "    .dataframe thead th {\n",
       "        text-align: right;\n",
       "    }\n",
       "</style>\n",
       "<table border=\"1\" class=\"dataframe\">\n",
       "  <thead>\n",
       "    <tr style=\"text-align: right;\">\n",
       "      <th></th>\n",
       "      <th>date</th>\n",
       "      <th>time</th>\n",
       "      <th>seconds</th>\n",
       "      <th>total_consumption</th>\n",
       "      <th>total_production</th>\n",
       "      <th>solar_production</th>\n",
       "      <th>total_solar_production</th>\n",
       "    </tr>\n",
       "  </thead>\n",
       "  <tbody>\n",
       "    <tr>\n",
       "      <th>0</th>\n",
       "      <td>2017-01-01</td>\n",
       "      <td>01:00:01</td>\n",
       "      <td>1483228801</td>\n",
       "      <td>13188.301</td>\n",
       "      <td>4499.785</td>\n",
       "      <td>0</td>\n",
       "      <td>4147.1</td>\n",
       "    </tr>\n",
       "    <tr>\n",
       "      <th>1</th>\n",
       "      <td>2017-01-01</td>\n",
       "      <td>01:00:11</td>\n",
       "      <td>1483228811</td>\n",
       "      <td>13188.302</td>\n",
       "      <td>4499.785</td>\n",
       "      <td>0</td>\n",
       "      <td>4147.1</td>\n",
       "    </tr>\n",
       "    <tr>\n",
       "      <th>2</th>\n",
       "      <td>2017-01-01</td>\n",
       "      <td>01:00:21</td>\n",
       "      <td>1483228821</td>\n",
       "      <td>13188.304</td>\n",
       "      <td>4499.785</td>\n",
       "      <td>0</td>\n",
       "      <td>4147.1</td>\n",
       "    </tr>\n",
       "    <tr>\n",
       "      <th>3</th>\n",
       "      <td>2017-01-01</td>\n",
       "      <td>01:00:31</td>\n",
       "      <td>1483228831</td>\n",
       "      <td>13188.305</td>\n",
       "      <td>4499.785</td>\n",
       "      <td>0</td>\n",
       "      <td>4147.1</td>\n",
       "    </tr>\n",
       "    <tr>\n",
       "      <th>4</th>\n",
       "      <td>2017-01-01</td>\n",
       "      <td>01:00:41</td>\n",
       "      <td>1483228841</td>\n",
       "      <td>13188.307</td>\n",
       "      <td>4499.785</td>\n",
       "      <td>0</td>\n",
       "      <td>4147.1</td>\n",
       "    </tr>\n",
       "  </tbody>\n",
       "</table>\n",
       "</div>"
      ],
      "text/plain": [
       "         date       time     seconds  total_consumption  total_production  \\\n",
       "0  2017-01-01   01:00:01  1483228801          13188.301          4499.785   \n",
       "1  2017-01-01   01:00:11  1483228811          13188.302          4499.785   \n",
       "2  2017-01-01   01:00:21  1483228821          13188.304          4499.785   \n",
       "3  2017-01-01   01:00:31  1483228831          13188.305          4499.785   \n",
       "4  2017-01-01   01:00:41  1483228841          13188.307          4499.785   \n",
       "\n",
       "  solar_production  total_solar_production  \n",
       "0                0                  4147.1  \n",
       "1                0                  4147.1  \n",
       "2                0                  4147.1  \n",
       "3                0                  4147.1  \n",
       "4                0                  4147.1  "
      ]
     },
     "execution_count": 4,
     "metadata": {},
     "output_type": "execute_result"
    }
   ],
   "source": [
    "raw_energy = pd.read_csv(\"./data/energy_train.csv\")\n",
    "raw_energy.head()"
   ]
  },
  {
   "cell_type": "code",
   "execution_count": 5,
   "metadata": {
    "scrolled": false
   },
   "outputs": [
    {
     "data": {
      "text/html": [
       "<div>\n",
       "<style scoped>\n",
       "    .dataframe tbody tr th:only-of-type {\n",
       "        vertical-align: middle;\n",
       "    }\n",
       "\n",
       "    .dataframe tbody tr th {\n",
       "        vertical-align: top;\n",
       "    }\n",
       "\n",
       "    .dataframe thead th {\n",
       "        text-align: right;\n",
       "    }\n",
       "</style>\n",
       "<table border=\"1\" class=\"dataframe\">\n",
       "  <thead>\n",
       "    <tr style=\"text-align: right;\">\n",
       "      <th></th>\n",
       "      <th>time</th>\n",
       "      <th>clouds</th>\n",
       "      <th>temperature</th>\n",
       "      <th>chill</th>\n",
       "      <th>humidity</th>\n",
       "      <th>wind direction</th>\n",
       "      <th>wind speed</th>\n",
       "      <th>visibility</th>\n",
       "      <th>air pressure</th>\n",
       "    </tr>\n",
       "  </thead>\n",
       "  <tbody>\n",
       "    <tr>\n",
       "      <th>0</th>\n",
       "      <td>2017-01-01T00:00:00Z</td>\n",
       "      <td>0.0</td>\n",
       "      <td>-1.7</td>\n",
       "      <td>-5.6</td>\n",
       "      <td>99.0</td>\n",
       "      <td>ZZW</td>\n",
       "      <td>3.0</td>\n",
       "      <td>197.0</td>\n",
       "      <td>1026.0</td>\n",
       "    </tr>\n",
       "    <tr>\n",
       "      <th>1</th>\n",
       "      <td>2017-01-01T00:10:00Z</td>\n",
       "      <td>0.0</td>\n",
       "      <td>-1.7</td>\n",
       "      <td>-5.6</td>\n",
       "      <td>99.0</td>\n",
       "      <td>ZZW</td>\n",
       "      <td>3.0</td>\n",
       "      <td>195.0</td>\n",
       "      <td>1025.8</td>\n",
       "    </tr>\n",
       "    <tr>\n",
       "      <th>2</th>\n",
       "      <td>2017-01-01T00:20:00Z</td>\n",
       "      <td>0.0</td>\n",
       "      <td>-1.7</td>\n",
       "      <td>-5.6</td>\n",
       "      <td>99.0</td>\n",
       "      <td>ZZW</td>\n",
       "      <td>3.0</td>\n",
       "      <td>271.0</td>\n",
       "      <td>1025.6</td>\n",
       "    </tr>\n",
       "    <tr>\n",
       "      <th>3</th>\n",
       "      <td>2017-01-01T00:30:00Z</td>\n",
       "      <td>0.0</td>\n",
       "      <td>-1.6</td>\n",
       "      <td>-5.4</td>\n",
       "      <td>99.0</td>\n",
       "      <td>Z</td>\n",
       "      <td>3.0</td>\n",
       "      <td>316.0</td>\n",
       "      <td>1025.4</td>\n",
       "    </tr>\n",
       "    <tr>\n",
       "      <th>4</th>\n",
       "      <td>2017-01-01T00:40:00Z</td>\n",
       "      <td>0.0</td>\n",
       "      <td>-1.6</td>\n",
       "      <td>-5.4</td>\n",
       "      <td>99.0</td>\n",
       "      <td>Z</td>\n",
       "      <td>3.0</td>\n",
       "      <td>334.0</td>\n",
       "      <td>1025.3</td>\n",
       "    </tr>\n",
       "  </tbody>\n",
       "</table>\n",
       "</div>"
      ],
      "text/plain": [
       "                   time  clouds  temperature  chill  humidity wind direction  \\\n",
       "0  2017-01-01T00:00:00Z     0.0         -1.7   -5.6      99.0            ZZW   \n",
       "1  2017-01-01T00:10:00Z     0.0         -1.7   -5.6      99.0            ZZW   \n",
       "2  2017-01-01T00:20:00Z     0.0         -1.7   -5.6      99.0            ZZW   \n",
       "3  2017-01-01T00:30:00Z     0.0         -1.6   -5.4      99.0              Z   \n",
       "4  2017-01-01T00:40:00Z     0.0         -1.6   -5.4      99.0              Z   \n",
       "\n",
       "   wind speed  visibility  air pressure  \n",
       "0         3.0       197.0        1026.0  \n",
       "1         3.0       195.0        1025.8  \n",
       "2         3.0       271.0        1025.6  \n",
       "3         3.0       316.0        1025.4  \n",
       "4         3.0       334.0        1025.3  "
      ]
     },
     "execution_count": 5,
     "metadata": {},
     "output_type": "execute_result"
    }
   ],
   "source": [
    "raw_weather = pd.read_csv(\"./data/weather_train.csv\")\n",
    "raw_weather.head()"
   ]
  },
  {
   "cell_type": "markdown",
   "metadata": {},
   "source": [
    "When analysing data it is important to understand its semantics. In IoT one needs to be extra careful, especially when integrating data from various sources. The very basic information are the units of the measurements, but also the specifications of the sensors gathering the data and the processes that are being monitored. For example, in this case the specification of the solar panel installation states that it can generate max 153k Jouls per minute.  \n",
    "\n",
    "Assume the following for the energy data:\n",
    "- `seconds` is the time the sample was recorded (UTC)\n",
    "- `total_consumption` is the total amount of electricity that was pulled from the grid (kWh)\n",
    "- `total_production` is the total amount of electricity that was pushed into the grid (kWh)\n",
    "- `solar_production` is the amount of eletricity that was produced since the last sample (Wh).\n",
    "- `total_solar_production` is the total amount of electricity produced by the solar panels (kWh)\n",
    "\n",
    "Assume the following for the weather data:\n",
    "- `time` is the time the sample was recorded (UTC)\n",
    "- `clouds` measures whether it was cloudy at the time when the sample was taken, ranging from 0-3, 0 meaning very cloudy and 3 meaning no clouds.\n",
    "- `temperature` is the still temperature (C)\n",
    "- `chill` is the temperature with the wind chill effect taken into account (C)\n",
    "- ..."
   ]
  },
  {
   "cell_type": "markdown",
   "metadata": {},
   "source": [
    "### Explore the data\n",
    "\n",
    "Exploration is usually the first step in any data analysis task. Visualization is an important tool for exploring the data. It gives insights into the structure and semantics of the data and indications for how to clean it.\n",
    "\n",
    "The `matplotlib` library provides a collection of useful plots, such as a line plot, scatter plot, histogram, scatter mattrix, etc. You can find out more about this library at \n",
    "\n",
    "- https://matplotlib.org/users/pyplot_tutorial.html\n",
    "- https://matplotlib.org/devdocs/gallery/\n",
    "\n",
    "The `pandas` library also contains convenient wrappers around the `matplotlib` library for visualizing data frames and series:\n",
    "\n",
    "- https://pandas.pydata.org/pandas-docs/stable/visualization.html\n",
    "\n",
    "Let's draw a simple plot of the energy data:"
   ]
  },
  {
   "cell_type": "code",
   "execution_count": 6,
   "metadata": {
    "scrolled": true
   },
   "outputs": [
    {
     "data": {
      "image/png": "[encoded data removed]",
      "text/plain": [
       "<matplotlib.figure.Figure at 0x1782c7f2940>"
      ]
     },
     "metadata": {},
     "output_type": "display_data"
    }
   ],
   "source": [
    "X = raw_energy[\"seconds\"]\n",
    "Y = raw_energy[\"total_solar_production\"]\n",
    "plt.plot(X, Y)\n",
    "plt.axis([X.min(), X.max(), Y.min(), Y.max()]);"
   ]
  },
  {
   "cell_type": "code",
   "execution_count": 7,
   "metadata": {},
   "outputs": [
    {
     "data": {
      "text/plain": [
       "<matplotlib.collections.PathCollection at 0x1782c52c2b0>"
      ]
     },
     "execution_count": 7,
     "metadata": {},
     "output_type": "execute_result"
    },
    {
     "data": {
      "image/png": "[encoded data removed]",
      "text/plain": [
       "<matplotlib.figure.Figure at 0x1782c4d51d0>"
      ]
     },
     "metadata": {},
     "output_type": "display_data"
    }
   ],
   "source": [
    "\n",
    "X = raw_energy['total_production']\n",
    "Y = raw_energy['total_consumption']\n",
    "fig, ax = plt.subplots()\n",
    "ax.set_xlabel('Total production')\n",
    "ax.set_ylabel('Total consumption')\n",
    "ax.set_title('Relation between total consumption and total production')\n",
    "ax.scatter(X, Y, s =0.01,alpha=1)\n",
    "# According to the scatter, it can be seen that there are some gaps. "
   ]
  },
  {
   "cell_type": "markdown",
   "metadata": {},
   "source": [
    "### Clean the data\n",
    "\n",
    "Data cleaning is an important part of any data analysis task. According to the general wisdom, most effort actually is spent on data cleaning. It involves preparing the data for the following steps, e.g. converting values to the right type, filling in missing values, removing outliers, normalizing the data, etc.\n",
    "\n",
    "In the plot above you will have noticed vertical lines. These lines correspond to 0 values and are likely to be measuring errors (e.g. the solar panel meter has crashed). Such outliers will often negatively impact the accuracy of the predictive model. However, care must be taken to properly define what constitutes an outlier and what constitutes a valid measurement. Some odd looking measurements may actually contain important evidence for proving or disproving a hypothesis. In this case the 0 values can be considered measurement errors and should be removed.\n",
    "\n",
    "Pandas provides convenient methods for selecting subsets of the data that can be used for removing outliers:\n",
    "\n",
    "- https://jakevdp.github.io/PythonDataScienceHandbook/03.02-data-indexing-and-selection.html"
   ]
  },
  {
   "cell_type": "code",
   "execution_count": 8,
   "metadata": {
    "collapsed": true
   },
   "outputs": [],
   "source": [
    "# TODO: remove the samples with production total of 0"
   ]
  },
  {
   "cell_type": "markdown",
   "metadata": {},
   "source": [
    "Data that is collected in the wild will sometimes contain formatting inconsistencies. It is a good habit to check the data types:"
   ]
  },
  {
   "cell_type": "code",
   "execution_count": 9,
   "metadata": {},
   "outputs": [
    {
     "data": {
      "text/plain": [
       "date                       object\n",
       "time                       object\n",
       "seconds                     int64\n",
       "total_consumption         float64\n",
       "total_production          float64\n",
       "solar_production           object\n",
       "total_solar_production    float64\n",
       "dtype: object"
      ]
     },
     "execution_count": 9,
     "metadata": {},
     "output_type": "execute_result"
    }
   ],
   "source": [
    "raw_energy.dtypes"
   ]
  },
  {
   "cell_type": "markdown",
   "metadata": {},
   "source": [
    "As expected, the `'total_consumption'`, `'total_production'`, `'total_solar_production'` columns are of numerical type, however, the `solar_production` is of an `object` type (which is also used for strings), while looking at the specification of the column above we would expect a numerical type. Modeling this column later will require a numerical column, so it will need to be converted to the right type first."
   ]
  },
  {
   "cell_type": "code",
   "execution_count": 10,
   "metadata": {},
   "outputs": [
    {
     "ename": "ValueError",
     "evalue": "could not convert string to float: ",
     "output_type": "error",
     "traceback": [
      "\u001b[1;31m---------------------------------------------------------------------------\u001b[0m",
      "\u001b[1;31mValueError\u001b[0m                                Traceback (most recent call last)",
      "\u001b[1;32m<ipython-input-10-556720bbce1e>\u001b[0m in \u001b[0;36m<module>\u001b[1;34m()\u001b[0m\n\u001b[0;32m      2\u001b[0m \u001b[0mX\u001b[0m \u001b[1;33m=\u001b[0m \u001b[0mraw_energy\u001b[0m\u001b[1;33m[\u001b[0m\u001b[1;34m'seconds'\u001b[0m\u001b[1;33m]\u001b[0m\u001b[1;33m\u001b[0m\u001b[0m\n\u001b[0;32m      3\u001b[0m \u001b[0mY\u001b[0m \u001b[1;33m=\u001b[0m \u001b[0mraw_energy\u001b[0m\u001b[1;33m[\u001b[0m\u001b[1;34m'solar_production'\u001b[0m\u001b[1;33m]\u001b[0m\u001b[1;33m\u001b[0m\u001b[0m\n\u001b[1;32m----> 4\u001b[1;33m \u001b[0mplt\u001b[0m\u001b[1;33m.\u001b[0m\u001b[0mplot\u001b[0m\u001b[1;33m(\u001b[0m\u001b[0mX\u001b[0m\u001b[1;33m,\u001b[0m\u001b[0mY\u001b[0m\u001b[1;33m)\u001b[0m\u001b[1;33m\u001b[0m\u001b[0m\n\u001b[0m",
      "\u001b[1;32mC:\\Python35\\Lib\\site-packages\\matplotlib\\pyplot.py\u001b[0m in \u001b[0;36mplot\u001b[1;34m(*args, **kwargs)\u001b[0m\n\u001b[0;32m   3315\u001b[0m                       mplDeprecation)\n\u001b[0;32m   3316\u001b[0m     \u001b[1;32mtry\u001b[0m\u001b[1;33m:\u001b[0m\u001b[1;33m\u001b[0m\u001b[0m\n\u001b[1;32m-> 3317\u001b[1;33m         \u001b[0mret\u001b[0m \u001b[1;33m=\u001b[0m \u001b[0max\u001b[0m\u001b[1;33m.\u001b[0m\u001b[0mplot\u001b[0m\u001b[1;33m(\u001b[0m\u001b[1;33m*\u001b[0m\u001b[0margs\u001b[0m\u001b[1;33m,\u001b[0m \u001b[1;33m**\u001b[0m\u001b[0mkwargs\u001b[0m\u001b[1;33m)\u001b[0m\u001b[1;33m\u001b[0m\u001b[0m\n\u001b[0m\u001b[0;32m   3318\u001b[0m     \u001b[1;32mfinally\u001b[0m\u001b[1;33m:\u001b[0m\u001b[1;33m\u001b[0m\u001b[0m\n\u001b[0;32m   3319\u001b[0m         \u001b[0max\u001b[0m\u001b[1;33m.\u001b[0m\u001b[0m_hold\u001b[0m \u001b[1;33m=\u001b[0m \u001b[0mwashold\u001b[0m\u001b[1;33m\u001b[0m\u001b[0m\n",
      "\u001b[1;32mC:\\Python35\\Lib\\site-packages\\matplotlib\\__init__.py\u001b[0m in \u001b[0;36minner\u001b[1;34m(ax, *args, **kwargs)\u001b[0m\n\u001b[0;32m   1896\u001b[0m                     warnings.warn(msg % (label_namer, func.__name__),\n\u001b[0;32m   1897\u001b[0m                                   RuntimeWarning, stacklevel=2)\n\u001b[1;32m-> 1898\u001b[1;33m             \u001b[1;32mreturn\u001b[0m \u001b[0mfunc\u001b[0m\u001b[1;33m(\u001b[0m\u001b[0max\u001b[0m\u001b[1;33m,\u001b[0m \u001b[1;33m*\u001b[0m\u001b[0margs\u001b[0m\u001b[1;33m,\u001b[0m \u001b[1;33m**\u001b[0m\u001b[0mkwargs\u001b[0m\u001b[1;33m)\u001b[0m\u001b[1;33m\u001b[0m\u001b[0m\n\u001b[0m\u001b[0;32m   1899\u001b[0m         \u001b[0mpre_doc\u001b[0m \u001b[1;33m=\u001b[0m \u001b[0minner\u001b[0m\u001b[1;33m.\u001b[0m\u001b[0m__doc__\u001b[0m\u001b[1;33m\u001b[0m\u001b[0m\n\u001b[0;32m   1900\u001b[0m         \u001b[1;32mif\u001b[0m \u001b[0mpre_doc\u001b[0m \u001b[1;32mis\u001b[0m \u001b[1;32mNone\u001b[0m\u001b[1;33m:\u001b[0m\u001b[1;33m\u001b[0m\u001b[0m\n",
      "\u001b[1;32mC:\\Python35\\Lib\\site-packages\\matplotlib\\axes\\_axes.py\u001b[0m in \u001b[0;36mplot\u001b[1;34m(self, *args, **kwargs)\u001b[0m\n\u001b[0;32m   1405\u001b[0m \u001b[1;33m\u001b[0m\u001b[0m\n\u001b[0;32m   1406\u001b[0m         \u001b[1;32mfor\u001b[0m \u001b[0mline\u001b[0m \u001b[1;32min\u001b[0m \u001b[0mself\u001b[0m\u001b[1;33m.\u001b[0m\u001b[0m_get_lines\u001b[0m\u001b[1;33m(\u001b[0m\u001b[1;33m*\u001b[0m\u001b[0margs\u001b[0m\u001b[1;33m,\u001b[0m \u001b[1;33m**\u001b[0m\u001b[0mkwargs\u001b[0m\u001b[1;33m)\u001b[0m\u001b[1;33m:\u001b[0m\u001b[1;33m\u001b[0m\u001b[0m\n\u001b[1;32m-> 1407\u001b[1;33m             \u001b[0mself\u001b[0m\u001b[1;33m.\u001b[0m\u001b[0madd_line\u001b[0m\u001b[1;33m(\u001b[0m\u001b[0mline\u001b[0m\u001b[1;33m)\u001b[0m\u001b[1;33m\u001b[0m\u001b[0m\n\u001b[0m\u001b[0;32m   1408\u001b[0m             \u001b[0mlines\u001b[0m\u001b[1;33m.\u001b[0m\u001b[0mappend\u001b[0m\u001b[1;33m(\u001b[0m\u001b[0mline\u001b[0m\u001b[1;33m)\u001b[0m\u001b[1;33m\u001b[0m\u001b[0m\n\u001b[0;32m   1409\u001b[0m \u001b[1;33m\u001b[0m\u001b[0m\n",
      "\u001b[1;32mC:\\Python35\\Lib\\site-packages\\matplotlib\\axes\\_base.py\u001b[0m in \u001b[0;36madd_line\u001b[1;34m(self, line)\u001b[0m\n\u001b[0;32m   1791\u001b[0m             \u001b[0mline\u001b[0m\u001b[1;33m.\u001b[0m\u001b[0mset_clip_path\u001b[0m\u001b[1;33m(\u001b[0m\u001b[0mself\u001b[0m\u001b[1;33m.\u001b[0m\u001b[0mpatch\u001b[0m\u001b[1;33m)\u001b[0m\u001b[1;33m\u001b[0m\u001b[0m\n\u001b[0;32m   1792\u001b[0m \u001b[1;33m\u001b[0m\u001b[0m\n\u001b[1;32m-> 1793\u001b[1;33m         \u001b[0mself\u001b[0m\u001b[1;33m.\u001b[0m\u001b[0m_update_line_limits\u001b[0m\u001b[1;33m(\u001b[0m\u001b[0mline\u001b[0m\u001b[1;33m)\u001b[0m\u001b[1;33m\u001b[0m\u001b[0m\n\u001b[0m\u001b[0;32m   1794\u001b[0m         \u001b[1;32mif\u001b[0m \u001b[1;32mnot\u001b[0m \u001b[0mline\u001b[0m\u001b[1;33m.\u001b[0m\u001b[0mget_label\u001b[0m\u001b[1;33m(\u001b[0m\u001b[1;33m)\u001b[0m\u001b[1;33m:\u001b[0m\u001b[1;33m\u001b[0m\u001b[0m\n\u001b[0;32m   1795\u001b[0m             \u001b[0mline\u001b[0m\u001b[1;33m.\u001b[0m\u001b[0mset_label\u001b[0m\u001b[1;33m(\u001b[0m\u001b[1;34m'_line%d'\u001b[0m \u001b[1;33m%\u001b[0m \u001b[0mlen\u001b[0m\u001b[1;33m(\u001b[0m\u001b[0mself\u001b[0m\u001b[1;33m.\u001b[0m\u001b[0mlines\u001b[0m\u001b[1;33m)\u001b[0m\u001b[1;33m)\u001b[0m\u001b[1;33m\u001b[0m\u001b[0m\n",
      "\u001b[1;32mC:\\Python35\\Lib\\site-packages\\matplotlib\\axes\\_base.py\u001b[0m in \u001b[0;36m_update_line_limits\u001b[1;34m(self, line)\u001b[0m\n\u001b[0;32m   1813\u001b[0m         \u001b[0mFigures\u001b[0m \u001b[0mout\u001b[0m \u001b[0mthe\u001b[0m \u001b[0mdata\u001b[0m \u001b[0mlimit\u001b[0m \u001b[0mof\u001b[0m \u001b[0mthe\u001b[0m \u001b[0mgiven\u001b[0m \u001b[0mline\u001b[0m\u001b[1;33m,\u001b[0m \u001b[0mupdating\u001b[0m \u001b[0mself\u001b[0m\u001b[1;33m.\u001b[0m\u001b[0mdataLim\u001b[0m\u001b[1;33m.\u001b[0m\u001b[1;33m\u001b[0m\u001b[0m\n\u001b[0;32m   1814\u001b[0m         \"\"\"\n\u001b[1;32m-> 1815\u001b[1;33m         \u001b[0mpath\u001b[0m \u001b[1;33m=\u001b[0m \u001b[0mline\u001b[0m\u001b[1;33m.\u001b[0m\u001b[0mget_path\u001b[0m\u001b[1;33m(\u001b[0m\u001b[1;33m)\u001b[0m\u001b[1;33m\u001b[0m\u001b[0m\n\u001b[0m\u001b[0;32m   1816\u001b[0m         \u001b[1;32mif\u001b[0m \u001b[0mpath\u001b[0m\u001b[1;33m.\u001b[0m\u001b[0mvertices\u001b[0m\u001b[1;33m.\u001b[0m\u001b[0msize\u001b[0m \u001b[1;33m==\u001b[0m \u001b[1;36m0\u001b[0m\u001b[1;33m:\u001b[0m\u001b[1;33m\u001b[0m\u001b[0m\n\u001b[0;32m   1817\u001b[0m             \u001b[1;32mreturn\u001b[0m\u001b[1;33m\u001b[0m\u001b[0m\n",
      "\u001b[1;32mC:\\Python35\\Lib\\site-packages\\matplotlib\\lines.py\u001b[0m in \u001b[0;36mget_path\u001b[1;34m(self)\u001b[0m\n\u001b[0;32m    987\u001b[0m         \"\"\"\n\u001b[0;32m    988\u001b[0m         \u001b[1;32mif\u001b[0m \u001b[0mself\u001b[0m\u001b[1;33m.\u001b[0m\u001b[0m_invalidy\u001b[0m \u001b[1;32mor\u001b[0m \u001b[0mself\u001b[0m\u001b[1;33m.\u001b[0m\u001b[0m_invalidx\u001b[0m\u001b[1;33m:\u001b[0m\u001b[1;33m\u001b[0m\u001b[0m\n\u001b[1;32m--> 989\u001b[1;33m             \u001b[0mself\u001b[0m\u001b[1;33m.\u001b[0m\u001b[0mrecache\u001b[0m\u001b[1;33m(\u001b[0m\u001b[1;33m)\u001b[0m\u001b[1;33m\u001b[0m\u001b[0m\n\u001b[0m\u001b[0;32m    990\u001b[0m         \u001b[1;32mreturn\u001b[0m \u001b[0mself\u001b[0m\u001b[1;33m.\u001b[0m\u001b[0m_path\u001b[0m\u001b[1;33m\u001b[0m\u001b[0m\n\u001b[0;32m    991\u001b[0m \u001b[1;33m\u001b[0m\u001b[0m\n",
      "\u001b[1;32mC:\\Python35\\Lib\\site-packages\\matplotlib\\lines.py\u001b[0m in \u001b[0;36mrecache\u001b[1;34m(self, always)\u001b[0m\n\u001b[0;32m    683\u001b[0m                 \u001b[0my\u001b[0m \u001b[1;33m=\u001b[0m \u001b[0mma\u001b[0m\u001b[1;33m.\u001b[0m\u001b[0masarray\u001b[0m\u001b[1;33m(\u001b[0m\u001b[0myconv\u001b[0m\u001b[1;33m,\u001b[0m \u001b[0mnp\u001b[0m\u001b[1;33m.\u001b[0m\u001b[0mfloat_\u001b[0m\u001b[1;33m)\u001b[0m\u001b[1;33m.\u001b[0m\u001b[0mfilled\u001b[0m\u001b[1;33m(\u001b[0m\u001b[0mnp\u001b[0m\u001b[1;33m.\u001b[0m\u001b[0mnan\u001b[0m\u001b[1;33m)\u001b[0m\u001b[1;33m\u001b[0m\u001b[0m\n\u001b[0;32m    684\u001b[0m             \u001b[1;32melse\u001b[0m\u001b[1;33m:\u001b[0m\u001b[1;33m\u001b[0m\u001b[0m\n\u001b[1;32m--> 685\u001b[1;33m                 \u001b[0my\u001b[0m \u001b[1;33m=\u001b[0m \u001b[0mnp\u001b[0m\u001b[1;33m.\u001b[0m\u001b[0masarray\u001b[0m\u001b[1;33m(\u001b[0m\u001b[0myconv\u001b[0m\u001b[1;33m,\u001b[0m \u001b[0mnp\u001b[0m\u001b[1;33m.\u001b[0m\u001b[0mfloat_\u001b[0m\u001b[1;33m)\u001b[0m\u001b[1;33m\u001b[0m\u001b[0m\n\u001b[0m\u001b[0;32m    686\u001b[0m             \u001b[0my\u001b[0m \u001b[1;33m=\u001b[0m \u001b[0my\u001b[0m\u001b[1;33m.\u001b[0m\u001b[0mravel\u001b[0m\u001b[1;33m(\u001b[0m\u001b[1;33m)\u001b[0m\u001b[1;33m\u001b[0m\u001b[0m\n\u001b[0;32m    687\u001b[0m         \u001b[1;32melse\u001b[0m\u001b[1;33m:\u001b[0m\u001b[1;33m\u001b[0m\u001b[0m\n",
      "\u001b[1;32mC:\\Python35\\Lib\\site-packages\\numpy\\core\\numeric.py\u001b[0m in \u001b[0;36masarray\u001b[1;34m(a, dtype, order)\u001b[0m\n\u001b[0;32m    529\u001b[0m \u001b[1;33m\u001b[0m\u001b[0m\n\u001b[0;32m    530\u001b[0m     \"\"\"\n\u001b[1;32m--> 531\u001b[1;33m     \u001b[1;32mreturn\u001b[0m \u001b[0marray\u001b[0m\u001b[1;33m(\u001b[0m\u001b[0ma\u001b[0m\u001b[1;33m,\u001b[0m \u001b[0mdtype\u001b[0m\u001b[1;33m,\u001b[0m \u001b[0mcopy\u001b[0m\u001b[1;33m=\u001b[0m\u001b[1;32mFalse\u001b[0m\u001b[1;33m,\u001b[0m \u001b[0morder\u001b[0m\u001b[1;33m=\u001b[0m\u001b[0morder\u001b[0m\u001b[1;33m)\u001b[0m\u001b[1;33m\u001b[0m\u001b[0m\n\u001b[0m\u001b[0;32m    532\u001b[0m \u001b[1;33m\u001b[0m\u001b[0m\n\u001b[0;32m    533\u001b[0m \u001b[1;33m\u001b[0m\u001b[0m\n",
      "\u001b[1;31mValueError\u001b[0m: could not convert string to float: "
     ]
    },
    {
     "data": {
      "image/png": "[encoded data removed]",
      "text/plain": [
       "<matplotlib.figure.Figure at 0x1782c4d9a58>"
      ]
     },
     "metadata": {},
     "output_type": "display_data"
    }
   ],
   "source": [
    "# TODO: explore the offending values in the solar_production column\n",
    "X = raw_energy['seconds']\n",
    "Y = raw_energy['solar_production']\n",
    "plt.plot(X,Y)"
   ]
  },
  {
   "cell_type": "markdown",
   "metadata": {},
   "source": [
    "### Question 1\n",
    "\n",
    "Convert empty strings in the `'solar_production'` column to `np.nan`."
   ]
  },
  {
   "cell_type": "code",
   "execution_count": 21,
   "metadata": {
    "collapsed": true
   },
   "outputs": [],
   "source": [
    "#// BEGIN_TODO [Q1]\n",
    "raw_energy['solar_production'] = raw_energy['solar_production'].replace(r'^\\s*$', np.NaN, regex=True)\n",
    "#// END_TODO [Q1]"
   ]
  },
  {
   "cell_type": "markdown",
   "metadata": {},
   "source": [
    "### Question 2\n",
    "\n",
    "Convert the remaining values in the `'solar_production'` column to `float` type."
   ]
  },
  {
   "cell_type": "code",
   "execution_count": 22,
   "metadata": {},
   "outputs": [
    {
     "data": {
      "text/plain": [
       "date                       object\n",
       "time                       object\n",
       "seconds                     int64\n",
       "total_consumption         float64\n",
       "total_production          float64\n",
       "solar_production          float64\n",
       "total_solar_production    float64\n",
       "dtype: object"
      ]
     },
     "execution_count": 22,
     "metadata": {},
     "output_type": "execute_result"
    }
   ],
   "source": [
    "#// BEGIN_TODO [Q2]\n",
    "raw_energy['solar_production'] = pd.to_numeric(raw_energy.solar_production, errors = coerce)\n",
    "#// END_TODO [Q2]"
   ]
  },
  {
   "cell_type": "markdown",
   "metadata": {},
   "source": [
    "### Engineer features\n",
    "\n",
    "The goal of this assignment is to predict the hourly energy output of the solar panels given the weather forecast. This requires to relate the energy samples with the weather samples, basically attaching the energy production label to the weather measurements. However, the *total* energy and weather samples are taken approximately every 10 seconds and 10 minutes, respectively.\n",
    "\n",
    "####  Aggregate per hour\n",
    "\n",
    "We can use pandas grouping functions to aggregate the samples per hour, taking the largest  measurement in that hour."
   ]
  },
  {
   "cell_type": "code",
   "execution_count": 65,
   "metadata": {},
   "outputs": [
    {
     "name": "stdout",
     "output_type": "stream",
     "text": [
      "                     total_solar_production\n",
      "year month day hour                        \n",
      "2017 1     1   0                     4147.1\n",
      "               1                     4147.1\n",
      "               2                     4147.1\n",
      "               3                     4147.1\n",
      "               4                     4147.1\n",
      "               5                     4147.1\n",
      "               6                     4147.1\n",
      "               7                     4147.1\n",
      "               8                     4147.2\n",
      "               9                     4147.2\n",
      "               10                    4147.3\n",
      "               11                    4147.3\n",
      "               12                    4147.4\n",
      "               13                    4147.4\n",
      "               14                    4147.5\n",
      "               15                    4147.5\n",
      "               16                    4147.5\n",
      "               17                    4147.5\n",
      "               18                    4147.5\n",
      "               19                    4147.5\n",
      "               20                    4147.5\n",
      "               21                    4147.5\n",
      "               22                    4147.5\n",
      "               23                    4147.5\n",
      "           2   0                     4147.5\n",
      "               1                     4147.5\n",
      "               2                     4147.5\n",
      "               3                     4147.5\n",
      "               4                     4147.5\n",
      "               5                     4147.5\n",
      "...                                     ...\n",
      "     5     143 18                    5191.5\n",
      "               19                    5191.5\n",
      "               20                    5191.5\n",
      "               21                    5191.5\n",
      "               22                    5191.5\n",
      "               23                    5191.5\n",
      "           144 0                     5191.5\n",
      "               1                     5191.5\n",
      "               2                     5191.5\n",
      "               3                     5191.5\n",
      "               4                     5191.6\n",
      "               5                     5192.0\n",
      "               6                     5192.4\n",
      "               7                     5193.4\n",
      "               8                     5194.8\n",
      "               9                     5196.0\n",
      "               10                    5197.7\n",
      "               11                    5199.6\n",
      "               12                    5201.6\n",
      "               13                    5202.9\n",
      "               14                    5204.2\n",
      "               15                    5205.0\n",
      "               16                    5205.3\n",
      "               17                    5205.5\n",
      "               18                    5205.6\n",
      "               19                    5205.6\n",
      "               20                    5205.6\n",
      "               21                    5205.6\n",
      "               22                    5205.6\n",
      "               23                    5205.6\n",
      "\n",
      "[2768 rows x 1 columns]\n"
     ]
    }
   ],
   "source": [
    "col = \"total_solar_production\"\n",
    "energy = raw_energy.copy()\n",
    "times = pd.to_datetime(energy[\"seconds\"], unit='s')\n",
    "\n",
    "energy = energy.groupby([times.dt.year, times.dt.month, times.dt.dayofyear, times.dt.hour])[[col]].agg(np.max)\n",
    "energy.index.names = [\"year\", \"month\", \"day\", \"hour\"]\n",
    "print (energy)"
   ]
  },
  {
   "cell_type": "markdown",
   "metadata": {},
   "source": [
    "### Question 3 ###\n",
    "\n",
    "Note that the hourly aggregation using the maximum works well for columns containing the totals. Does it also work for the `'solar_production'` column?\n",
    "\n",
    "1. Yes, but the aggregation method needs to be changed to fit the solar_production data type\n",
    "2. Yes, the same aggregation method can be applied\n",
    "3. No, it's not possible to aggegrate over the solar_production field\n",
    "4. No, aggregating over the solar_production field in any way does not make sense.\n",
    "5. None of the above.\n",
    "\n",
    "Assign an integer corresponding to the correct answer to variable `question_aggregation`."
   ]
  },
  {
   "cell_type": "code",
   "execution_count": 55,
   "metadata": {},
   "outputs": [
    {
     "data": {
      "text/plain": [
       "'\\ncol = \"solar_production\"\\ncol1 = \"total_solar_production\"\\nenergy = raw_energy.copy()\\nanother = raw_energy.copy()\\ntimes = pd.to_datetime(energy[\"seconds\"], unit=\\'s\\')\\n\\nenergy = energy.groupby([times.dt.year, times.dt.month, times.dt.dayofyear, times.dt.hour])[[col]].agg(\\'mean\\')/1000.0\\nanother = another.groupby([times.dt.year, times.dt.month, times.dt.dayofyear, times.dt.hour])[[col1]].agg(np.max)\\nenergy = energy[[col]].agg(\\'cumsum\\')+4147.1\\nenergy = energy[[col]].round(1)\\nenergy.index.names = [\"year\", \"month\", \"day\", \"hour\"]\\nanother.index.names = [\"year\", \"month\", \"day\", \"hour\"]\\nprint (energy)\\nprint (another)\\n'"
      ]
     },
     "execution_count": 55,
     "metadata": {},
     "output_type": "execute_result"
    }
   ],
   "source": [
    "#// BEGIN_TODO [Q3]\n",
    "question_aggregation = 1\n",
    "\n",
    "\"\"\"\n",
    "Remove later:\n",
    "To get exactly the same result:\n",
    "col = \"solar_production\"\n",
    "energy = raw_energy.copy()\n",
    "times = pd.to_datetime(energy[\"seconds\"], unit='s')\n",
    "energy = energy.groupby([times.dt.year, times.dt.month, times.dt.dayofyear, times.dt.hour])[[col]].agg('mean')/1000.0\n",
    "energy = energy[[col]].agg('cumsum')+4147.1\n",
    "energy = energy[[col]].round(1)\n",
    "energy.index.names = [\"year\", \"month\", \"day\", \"hour\"]\n",
    "print (energy)\n",
    "\"\"\"\n",
    "#// END_TODO [Q3]"
   ]
  },
  {
   "cell_type": "markdown",
   "metadata": {},
   "source": [
    "After aggregation, some cells can contain `Nan` values (e.g. when trying to compute a maximum for an hour during which no samples were recorded). Therefore, after performing such operations one should decide what to do with any NaN values. In this case we chose to remove such samples."
   ]
  },
  {
   "cell_type": "code",
   "execution_count": null,
   "metadata": {
    "collapsed": true
   },
   "outputs": [],
   "source": [
    "energy = energy.dropna()"
   ]
  },
  {
   "cell_type": "markdown",
   "metadata": {},
   "source": [
    "After grouping, merging and slicing operations, the index of a data frame might need to be recomputed, to reflect the new ordering of rows."
   ]
  },
  {
   "cell_type": "code",
   "execution_count": 57,
   "metadata": {},
   "outputs": [],
   "source": [
    "energy = energy.reset_index()"
   ]
  },
  {
   "cell_type": "markdown",
   "metadata": {},
   "source": [
    "#### Compute the hourly production\n",
    "\n",
    "We are interested in predicting the solar panel output in a given hour. However, the energy data frame so far have contains only the total solar panel output until the end of that hour. Assuming that the data set contains a sample for every hour, i.e. there are no gaps, the hourly output can be compouted by taking the difference between the previous sample."
   ]
  },
  {
   "cell_type": "code",
   "execution_count": 67,
   "metadata": {},
   "outputs": [
    {
     "name": "stdout",
     "output_type": "stream",
     "text": [
      "      index  year  month  day  hour  total_solar_production  production\n",
      "0         1  2017      1    1     2                  4147.1         0.0\n",
      "1         2  2017      1    1     3                  4147.1         0.0\n",
      "2         3  2017      1    1     4                  4147.1         0.0\n",
      "3         4  2017      1    1     5                  4147.1         0.0\n",
      "4         5  2017      1    1     6                  4147.1         0.0\n",
      "5         6  2017      1    1     7                  4147.1         0.0\n",
      "6         7  2017      1    1     8                  4147.2         0.1\n",
      "7         8  2017      1    1     9                  4147.2         0.0\n",
      "8         9  2017      1    1    10                  4147.3         0.1\n",
      "9        10  2017      1    1    11                  4147.3         0.0\n",
      "10       11  2017      1    1    12                  4147.4         0.1\n",
      "11       12  2017      1    1    13                  4147.4         0.0\n",
      "12       13  2017      1    1    14                  4147.5         0.1\n",
      "13       14  2017      1    1    15                  4147.5         0.0\n",
      "14       15  2017      1    1    16                  4147.5         0.0\n",
      "15       16  2017      1    1    17                  4147.5         0.0\n",
      "16       17  2017      1    1    18                  4147.5         0.0\n",
      "17       18  2017      1    1    19                  4147.5         0.0\n",
      "18       19  2017      1    1    20                  4147.5         0.0\n",
      "19       20  2017      1    1    21                  4147.5         0.0\n",
      "20       21  2017      1    1    22                  4147.5         0.0\n",
      "21       22  2017      1    1    23                  4147.5         0.0\n",
      "22       23  2017      1    2     0                  4147.5         0.0\n",
      "23       24  2017      1    2     1                  4147.5         0.0\n",
      "24       25  2017      1    2     2                  4147.5         0.0\n",
      "25       26  2017      1    2     3                  4147.5         0.0\n",
      "26       27  2017      1    2     4                  4147.5         0.0\n",
      "27       28  2017      1    2     5                  4147.5         0.0\n",
      "28       29  2017      1    2     6                  4147.5         0.0\n",
      "29       30  2017      1    2     7                  4147.5         0.0\n",
      "...     ...   ...    ...  ...   ...                     ...         ...\n",
      "2736   2737  2017      5  143    18                  5191.5         0.2\n",
      "2737   2738  2017      5  143    19                  5191.5         0.0\n",
      "2738   2739  2017      5  143    20                  5191.5         0.0\n",
      "2739   2740  2017      5  143    21                  5191.5         0.0\n",
      "2740   2741  2017      5  143    22                  5191.5         0.0\n",
      "2741   2742  2017      5  143    23                  5191.5         0.0\n",
      "2742   2743  2017      5  144     0                  5191.5         0.0\n",
      "2743   2744  2017      5  144     1                  5191.5         0.0\n",
      "2744   2745  2017      5  144     2                  5191.5         0.0\n",
      "2745   2746  2017      5  144     3                  5191.5         0.0\n",
      "2746   2747  2017      5  144     4                  5191.6         0.1\n",
      "2747   2748  2017      5  144     5                  5192.0         0.4\n",
      "2748   2749  2017      5  144     6                  5192.4         0.4\n",
      "2749   2750  2017      5  144     7                  5193.4         1.0\n",
      "2750   2751  2017      5  144     8                  5194.8         1.4\n",
      "2751   2752  2017      5  144     9                  5196.0         1.2\n",
      "2752   2753  2017      5  144    10                  5197.7         1.7\n",
      "2753   2754  2017      5  144    11                  5199.6         1.9\n",
      "2754   2755  2017      5  144    12                  5201.6         2.0\n",
      "2755   2756  2017      5  144    13                  5202.9         1.3\n",
      "2756   2757  2017      5  144    14                  5204.2         1.3\n",
      "2757   2758  2017      5  144    15                  5205.0         0.8\n",
      "2758   2759  2017      5  144    16                  5205.3         0.3\n",
      "2759   2760  2017      5  144    17                  5205.5         0.2\n",
      "2760   2761  2017      5  144    18                  5205.6         0.1\n",
      "2761   2762  2017      5  144    19                  5205.6         0.0\n",
      "2762   2763  2017      5  144    20                  5205.6         0.0\n",
      "2763   2764  2017      5  144    21                  5205.6         0.0\n",
      "2764   2765  2017      5  144    22                  5205.6         0.0\n",
      "2765   2766  2017      5  144    23                  5205.6         0.0\n",
      "\n",
      "[2766 rows x 7 columns]\n"
     ]
    }
   ],
   "source": [
    "energy[\"production\"] = energy[col] - energy[col].shift(1)\n",
    "energy = energy.dropna().reset_index()\n",
    "energy.head()"
   ]
  },
  {
   "cell_type": "markdown",
   "metadata": {},
   "source": [
    "### Question 4 ###\n",
    "\n",
    "After creating the production column there are NaNs in the data. Where do they come from, and why is the index recomputed?\n",
    "\n",
    "1. The NaN values are caused by missing values in the original data due to sensor errors, and the index is reset because a column has been added.\n",
    "2. The NaN values are caused by missing values in the original data due to the way the column is calculated, and the index is reset because a column has been added.\n",
    "3. The NaN values are caused by missing values in the original data due to sensor errors, and the index is reset because the number of rows has changed.\n",
    "4. The NaN values are caused by missing values in the original data due to the way the column is calculated, and the index is reset because the number of rows has changed.\n",
    "\n",
    "Assign an integer corresponding to the correct answer to variable `question_production`."
   ]
  },
  {
   "cell_type": "code",
   "execution_count": null,
   "metadata": {
    "collapsed": true
   },
   "outputs": [],
   "source": [
    "#// BEGIN_TODO [Q4]\n",
    "# Not sure\n",
    "question_production = 3\n",
    "#// END_TODO [Q4]"
   ]
  },
  {
   "cell_type": "markdown",
   "metadata": {},
   "source": [
    "Now we can perform a similar aggregation for the `clouds` column in the weather data. Note that rather than choosing the maximum, we take the average `clouds` value per hour."
   ]
  },
  {
   "cell_type": "code",
   "execution_count": 68,
   "metadata": {},
   "outputs": [
    {
     "name": "stdout",
     "output_type": "stream",
     "text": [
      "      year  month  day  hour    clouds\n",
      "0     2017      1    1     0  0.000000\n",
      "1     2017      1    1     1  0.000000\n",
      "2     2017      1    1     2  0.000000\n",
      "3     2017      1    1     3  0.000000\n",
      "4     2017      1    1     4  0.000000\n",
      "5     2017      1    1     5  0.000000\n",
      "6     2017      1    1     6  0.000000\n",
      "7     2017      1    1     7  0.000000\n",
      "8     2017      1    1     8  0.000000\n",
      "9     2017      1    1     9  0.000000\n",
      "10    2017      1    1    10  0.000000\n",
      "11    2017      1    1    11  0.000000\n",
      "12    2017      1    1    12  0.000000\n",
      "13    2017      1    1    13  0.000000\n",
      "14    2017      1    1    14  0.000000\n",
      "15    2017      1    1    15  0.000000\n",
      "16    2017      1    1    16  0.000000\n",
      "17    2017      1    1    17  0.000000\n",
      "18    2017      1    1    18  0.000000\n",
      "19    2017      1    1    19  0.000000\n",
      "20    2017      1    1    20  0.000000\n",
      "21    2017      1    1    21  0.000000\n",
      "22    2017      1    1    22  0.000000\n",
      "23    2017      1    1    23  0.000000\n",
      "24    2017      1    2     0  0.000000\n",
      "25    2017      1    2     1  0.000000\n",
      "26    2017      1    2     2  0.000000\n",
      "27    2017      1    2     3  0.000000\n",
      "28    2017      1    2     4  0.000000\n",
      "29    2017      1    2     5  0.000000\n",
      "...    ...    ...  ...   ...       ...\n",
      "2754  2017      5  143    18  2.000000\n",
      "2755  2017      5  143    19  0.000000\n",
      "2756  2017      5  143    20  0.333333\n",
      "2757  2017      5  143    21  0.000000\n",
      "2758  2017      5  143    22  0.000000\n",
      "2759  2017      5  143    23  0.000000\n",
      "2760  2017      5  144     0  0.166667\n",
      "2761  2017      5  144     1  1.666667\n",
      "2762  2017      5  144     2  3.000000\n",
      "2763  2017      5  144     3  2.666667\n",
      "2764  2017      5  144     4  0.666667\n",
      "2765  2017      5  144     5  0.666667\n",
      "2766  2017      5  144     6  0.166667\n",
      "2767  2017      5  144     7  0.000000\n",
      "2768  2017      5  144     8  0.000000\n",
      "2769  2017      5  144     9  0.000000\n",
      "2770  2017      5  144    10  0.000000\n",
      "2771  2017      5  144    11  0.000000\n",
      "2772  2017      5  144    12  0.333333\n",
      "2773  2017      5  144    13  0.166667\n",
      "2774  2017      5  144    14  0.666667\n",
      "2775  2017      5  144    15  1.666667\n",
      "2776  2017      5  144    16  2.500000\n",
      "2777  2017      5  144    17  2.166667\n",
      "2778  2017      5  144    18  3.000000\n",
      "2779  2017      5  144    19  2.666667\n",
      "2780  2017      5  144    20  2.666667\n",
      "2781  2017      5  144    21  2.500000\n",
      "2782  2017      5  144    22  2.666667\n",
      "2783  2017      5  144    23  2.333333\n",
      "\n",
      "[2784 rows x 5 columns]\n"
     ]
    }
   ],
   "source": [
    "weather = raw_weather.copy()\n",
    "times = pd.to_datetime(weather[\"time\"])\n",
    "weather = weather.groupby([times.dt.year, times.dt.month, times.dt.dayofyear, times.dt.hour])[\"clouds\"].agg(np.mean)\n",
    "weather.index.names = [\"year\", \"month\", \"day\", \"hour\"]\n",
    "weather = weather.reset_index()"
   ]
  },
  {
   "cell_type": "markdown",
   "metadata": {},
   "source": [
    "#### Merge the data frames\n",
    "\n",
    "Now that both data frames are expressed in terms of hours and the energy data frame contains the hourly solar panel output, we can use pandas to merge them.\n",
    "\n",
    "**Important:** when dealing with times in data from various sources one must be very carefull about the semantics of the time, such as the time-zone or the daylight-saving. Luckily, in this assignment both energy and weather data use UTC time, so no extra preprocessing is required."
   ]
  },
  {
   "cell_type": "code",
   "execution_count": 69,
   "metadata": {},
   "outputs": [
    {
     "data": {
      "text/html": [
       "<div>\n",
       "<style scoped>\n",
       "    .dataframe tbody tr th:only-of-type {\n",
       "        vertical-align: middle;\n",
       "    }\n",
       "\n",
       "    .dataframe tbody tr th {\n",
       "        vertical-align: top;\n",
       "    }\n",
       "\n",
       "    .dataframe thead th {\n",
       "        text-align: right;\n",
       "    }\n",
       "</style>\n",
       "<table border=\"1\" class=\"dataframe\">\n",
       "  <thead>\n",
       "    <tr style=\"text-align: right;\">\n",
       "      <th></th>\n",
       "      <th>index</th>\n",
       "      <th>year</th>\n",
       "      <th>month</th>\n",
       "      <th>day</th>\n",
       "      <th>hour</th>\n",
       "      <th>total_solar_production</th>\n",
       "      <th>production</th>\n",
       "      <th>clouds</th>\n",
       "    </tr>\n",
       "  </thead>\n",
       "  <tbody>\n",
       "    <tr>\n",
       "      <th>0</th>\n",
       "      <td>1</td>\n",
       "      <td>2017</td>\n",
       "      <td>1</td>\n",
       "      <td>1</td>\n",
       "      <td>2</td>\n",
       "      <td>4147.1</td>\n",
       "      <td>0.0</td>\n",
       "      <td>0.0</td>\n",
       "    </tr>\n",
       "    <tr>\n",
       "      <th>1</th>\n",
       "      <td>2</td>\n",
       "      <td>2017</td>\n",
       "      <td>1</td>\n",
       "      <td>1</td>\n",
       "      <td>3</td>\n",
       "      <td>4147.1</td>\n",
       "      <td>0.0</td>\n",
       "      <td>0.0</td>\n",
       "    </tr>\n",
       "    <tr>\n",
       "      <th>2</th>\n",
       "      <td>3</td>\n",
       "      <td>2017</td>\n",
       "      <td>1</td>\n",
       "      <td>1</td>\n",
       "      <td>4</td>\n",
       "      <td>4147.1</td>\n",
       "      <td>0.0</td>\n",
       "      <td>0.0</td>\n",
       "    </tr>\n",
       "    <tr>\n",
       "      <th>3</th>\n",
       "      <td>4</td>\n",
       "      <td>2017</td>\n",
       "      <td>1</td>\n",
       "      <td>1</td>\n",
       "      <td>5</td>\n",
       "      <td>4147.1</td>\n",
       "      <td>0.0</td>\n",
       "      <td>0.0</td>\n",
       "    </tr>\n",
       "    <tr>\n",
       "      <th>4</th>\n",
       "      <td>5</td>\n",
       "      <td>2017</td>\n",
       "      <td>1</td>\n",
       "      <td>1</td>\n",
       "      <td>6</td>\n",
       "      <td>4147.1</td>\n",
       "      <td>0.0</td>\n",
       "      <td>0.0</td>\n",
       "    </tr>\n",
       "  </tbody>\n",
       "</table>\n",
       "</div>"
      ],
      "text/plain": [
       "   index  year  month  day  hour  total_solar_production  production  clouds\n",
       "0      1  2017      1    1     2                  4147.1         0.0     0.0\n",
       "1      2  2017      1    1     3                  4147.1         0.0     0.0\n",
       "2      3  2017      1    1     4                  4147.1         0.0     0.0\n",
       "3      4  2017      1    1     5                  4147.1         0.0     0.0\n",
       "4      5  2017      1    1     6                  4147.1         0.0     0.0"
      ]
     },
     "execution_count": 69,
     "metadata": {},
     "output_type": "execute_result"
    }
   ],
   "source": [
    "data = pd.merge(energy, weather).dropna().reset_index(drop=True)\n",
    "data.head()"
   ]
  },
  {
   "cell_type": "markdown",
   "metadata": {},
   "source": [
    "#### Explore the engineered features\n",
    "\n",
    "After engineering features it is a good idea to explore the data set again, to see if extra cleaning is required."
   ]
  },
  {
   "cell_type": "code",
   "execution_count": 70,
   "metadata": {},
   "outputs": [
    {
     "name": "stdout",
     "output_type": "stream",
     "text": [
      "0.0 87.4\n"
     ]
    },
    {
     "data": {
      "image/png": "[encoded data removed]",
      "text/plain": [
       "<matplotlib.figure.Figure at 0x1782c4f6588>"
      ]
     },
     "metadata": {},
     "output_type": "display_data"
    }
   ],
   "source": [
    "values = data[\"production\"].values\n",
    "plt.figure(figsize=(10, 2))\n",
    "plt.hist(values, 50);\n",
    "print (min(values), max(values))"
   ]
  },
  {
   "cell_type": "markdown",
   "metadata": {},
   "source": [
    "The small variance of the values and their large range suggests there are some outliers. This can be also visualized in a different way."
   ]
  },
  {
   "cell_type": "code",
   "execution_count": 71,
   "metadata": {},
   "outputs": [
    {
     "data": {
      "image/png": "[encoded data removed]",
      "text/plain": [
       "<matplotlib.figure.Figure at 0x1782c472710>"
      ]
     },
     "metadata": {},
     "output_type": "display_data"
    }
   ],
   "source": [
    "def plot(df, col):\n",
    "    x = df[\"day\"]\n",
    "    plt.figure(figsize=(10,3))\n",
    "    plt.plot(x, df[col], 'bo', markersize=1)\n",
    "\n",
    "plot(data, \"production\")"
   ]
  },
  {
   "cell_type": "markdown",
   "metadata": {},
   "source": [
    "The figure suggests that there are indeed outliers in the energy production data."
   ]
  },
  {
   "cell_type": "markdown",
   "metadata": {},
   "source": [
    "### Question 5\n",
    "\n",
    "The plot shows some outliers. How do you explain these? Choose all correct answers.\n",
    "\n",
    "1. There is actually an oversight in the previous calculations which causes the outliers.\n",
    "2. The outliers represent multiple days of production.\n",
    "3. There were some very clear and sunny days.\n",
    "4. There is some unclean data present due to sensor errors.\n",
    "\n",
    "Assign a list of integers corresponding to the correct answers to variable `question_outliers`."
   ]
  },
  {
   "cell_type": "code",
   "execution_count": null,
   "metadata": {
    "collapsed": true
   },
   "outputs": [],
   "source": [
    "#// BEGIN_TODO [Q5]\n",
    "# Not sure\n",
    "question_outliers = [1, 4]\n",
    "#// END_TODO [Q5]"
   ]
  },
  {
   "cell_type": "markdown",
   "metadata": {},
   "source": [
    "Note that when removing the energy samples containing 0 values in `raw_energy` earlier, it was clear how to define an outlier. In this case, however, one must carefully decide how to define an outlier, to avoid introducing bias. You can read more about outlier detection here:\n",
    "\n",
    "- Section 3.3.3 of \"Introduction to Statistical Learning\"\n",
    "- http://scikit-learn.org/stable/modules/outlier_detection.html"
   ]
  },
  {
   "cell_type": "markdown",
   "metadata": {},
   "source": [
    "### Question 6\n",
    "\n",
    "How do you best define an outlier for this data set?\n",
    "\n",
    "1. Calculate the average production, and define an outlier based on standard deviations.\n",
    "2. Build a model for the expected production, and label outliers based on the model predictions.\n",
    "3. Set a fixed threshold for outliers based on the characteristics of the solar panels.\n",
    "4. Estimate a fixed threshold for outliers by hand based on the above plot.\n",
    "\n",
    "Assign an integer corresponding to the correct answer to variable `question_outlier_definition`."
   ]
  },
  {
   "cell_type": "code",
   "execution_count": null,
   "metadata": {
    "collapsed": true
   },
   "outputs": [],
   "source": [
    "#// BEGIN_TODO [Q6]\n",
    "question_outlier_definition = 1\n",
    "#// END_TODO [Q6]"
   ]
  },
  {
   "cell_type": "markdown",
   "metadata": {},
   "source": [
    "### Question 7\n",
    "\n",
    "Is your outlier definition unbiased or \"fair\"? Does it detect outliers that are both too large and too small?\n",
    "\n",
    "1. Yes\n",
    "2. No\n",
    "\n",
    "Assign an integer corresponding to the correct answer to variable `question_outlier_fair`. "
   ]
  },
  {
   "cell_type": "code",
   "execution_count": null,
   "metadata": {
    "collapsed": true
   },
   "outputs": [],
   "source": [
    "#// BEGIN_TODO [Q7]\n",
    "question_outlier_fair = 1\n",
    "#// END_TODO [Q7]"
   ]
  },
  {
   "cell_type": "markdown",
   "metadata": {},
   "source": [
    "### Question 8\n",
    "\n",
    "Remove the outliers from the `data` data frame. Assign the resulting data frame to variable `data_no_outliers`. "
   ]
  },
  {
   "cell_type": "code",
   "execution_count": null,
   "metadata": {
    "collapsed": true
   },
   "outputs": [],
   "source": [
    "#// BEGIN_TODO [Q8]\n",
    "#// END_TODO [Q8]"
   ]
  },
  {
   "cell_type": "markdown",
   "metadata": {},
   "source": [
    "Data visualization is often helpful to check if the results of our data processing and analysis meet our expectations."
   ]
  },
  {
   "cell_type": "code",
   "execution_count": null,
   "metadata": {
    "collapsed": true
   },
   "outputs": [],
   "source": [
    "# TODO: plot the clouds feature"
   ]
  },
  {
   "cell_type": "markdown",
   "metadata": {},
   "source": [
    "### Question 9\n",
    "\n",
    "Explore the data after removing the outliers. Does the removal reveal any strange or unexplainable patterns in the data that warrant further pre-processing?\n",
    "\n",
    "1. Yes\n",
    "2. No\n",
    "\n",
    "Assign an integer corresponding to the correct answer to variable `question_strange`. "
   ]
  },
  {
   "cell_type": "code",
   "execution_count": null,
   "metadata": {
    "collapsed": true
   },
   "outputs": [],
   "source": [
    "#// BEGIN_TODO [Q9]\n",
    "#// END_TODO [Q9]"
   ]
  },
  {
   "cell_type": "markdown",
   "metadata": {},
   "source": [
    "### Train a model\n",
    "\n",
    "For training and evaluating the perfromance of a model we need to split the data into a training and a test."
   ]
  },
  {
   "cell_type": "code",
   "execution_count": null,
   "metadata": {
    "collapsed": true
   },
   "outputs": [],
   "source": [
    "X = data[[\"clouds\"]].values\n",
    "y = data[\"production\"].values\n",
    "X_train, X_test, y_train, y_test = train_test_split(X, y, test_size=0.2, random_state=42)"
   ]
  },
  {
   "cell_type": "code",
   "execution_count": null,
   "metadata": {},
   "outputs": [],
   "source": [
    "model = LinearRegression()\n",
    "model.fit(X_train, y_train)"
   ]
  },
  {
   "cell_type": "markdown",
   "metadata": {},
   "source": [
    "### Evaluate the model\n",
    "\n",
    "After a model is trained we would like to estimate how well it is performing, whether we can actually trust its predictions if it were deployed. Model performance can be estimated using various visualisations and statistics (see Section 3.1.3 of [ISLR])\n",
    "\n",
    "#### Model fit\n",
    "\n",
    "If the feature space is 1 or 2 dimensional, then we can easily plot the model to illustrate how well it fits the test data."
   ]
  },
  {
   "cell_type": "code",
   "execution_count": null,
   "metadata": {},
   "outputs": [],
   "source": [
    "x_plot = np.linspace(min(X), max(X), 100)\n",
    "X_plot = x_plot.reshape(-1, 1)\n",
    "y_plot = model.predict(X_plot)\n",
    "\n",
    "dots, = plt.plot(X_test, y_test, 'bo', markersize=2, color=\"red\", label=\"training data\");\n",
    "line, = plt.plot(x_plot, y_plot, linewidth=2, label=\"model\");\n",
    "plt.legend(handles=[dots, line]);"
   ]
  },
  {
   "cell_type": "markdown",
   "metadata": {},
   "source": [
    "We can compute the R2 score to assign a number to how well the model fits the data. It estimates how much of the variance in the data is explained by the model, i.e. how well the model fits the data. A score of 1 means the model captures all of the variance, and a score of 0 means the model does not capture any of the variance.\n",
    "\n",
    "You can read more about the R2 score in Section 3.1.3 of \"Introduction to Statistical Learning\"."
   ]
  },
  {
   "cell_type": "code",
   "execution_count": null,
   "metadata": {},
   "outputs": [],
   "source": [
    "model.score(X_test, y_test)"
   ]
  },
  {
   "cell_type": "markdown",
   "metadata": {},
   "source": [
    "#### Residuals\n",
    "\n",
    "We can also plot a histogram of the residuals (or errors), i.e. the deviations of the values predicted by our model from the ground truth values (from the test set):"
   ]
  },
  {
   "cell_type": "code",
   "execution_count": null,
   "metadata": {},
   "outputs": [],
   "source": [
    "y_pred = model.predict(X_test)\n",
    "plt.title(\"Distribution of the residuals\")\n",
    "plt.hist(y_test - y_pred, 50);"
   ]
  },
  {
   "cell_type": "markdown",
   "metadata": {},
   "source": [
    "Looking at the histogram you will notice that distribution of the residuals is not symmetric."
   ]
  },
  {
   "cell_type": "markdown",
   "metadata": {},
   "source": [
    "### Question 10\n",
    "\n",
    "Does the model tend to over-estimate, or under-estimate the solar panel output?\n",
    "\n",
    "1. The model is not biased\n",
    "2. The model tends to over-estimate.\n",
    "3. The model tends to under-estimate.\n",
    "\n",
    "Assign an integer corresponding to the correct answer to variable `question_bias`. "
   ]
  },
  {
   "cell_type": "code",
   "execution_count": null,
   "metadata": {
    "collapsed": true
   },
   "outputs": [],
   "source": [
    "#// BEGIN_TODO [Q10]\n",
    "#// END_TODO [Q10]"
   ]
  },
  {
   "cell_type": "markdown",
   "metadata": {},
   "source": [
    "If the model is not biased, or if we are not interested in the bias, then we can compute the mean absolute deviation (MAD) to estimate the expected error of a prediction. E.g. a MAD = 0.345 means that we expect on average our predition to be off by 0.345kWh."
   ]
  },
  {
   "cell_type": "code",
   "execution_count": null,
   "metadata": {},
   "outputs": [],
   "source": [
    "y_pred = model.predict(X_test)\n",
    "mean_absolute_error(y_test, y_pred)"
   ]
  },
  {
   "cell_type": "markdown",
   "metadata": {},
   "source": [
    "### Improve the model\n",
    "\n",
    "We have shown here a simple linear model mapping the `clouds` feature to the `hourly_production` label. However, this model does not perform very well. The problem could be that the model is underfitting or overfitting the data. You can find more about under- and overfitting in Section 2.1.2, 2.1.3, 6.1 of \"Introduction to Statistical Learning\"."
   ]
  },
  {
   "cell_type": "markdown",
   "metadata": {},
   "source": [
    "### Question 11 ###\n",
    "\n",
    "Is the model underfitting or overfitting the training data? What makes you say that?\n",
    "\n",
    "1. The model is underfitting. This can be seen by the straightness of the line of the model in the plot.\n",
    "2. The model is overfitting. This can be seen by the straightness of the  line of the model in the plot.\n",
    "3. The model is underfitting. This can be seen by the location of the line of the model in the plot.\n",
    "4. The model is overfitting. This can be seen by the location of the line of the model in the plot.\n",
    "\n",
    "Assign an integer corresponding to the correct answer to variable `question_fitting`. "
   ]
  },
  {
   "cell_type": "code",
   "execution_count": null,
   "metadata": {
    "collapsed": true
   },
   "outputs": [],
   "source": [
    "#// BEGIN_TODO [Q11]\n",
    "#// END_TODO [Q11]"
   ]
  },
  {
   "cell_type": "markdown",
   "metadata": {},
   "source": [
    "One could try several things to improve the model.\n",
    "\n",
    "#### Add more features\n",
    "\n",
    "The simple linear model assumed that there is a strong relation ship between the clouds (or their absence) and the output of the solar panels. However, clouds alone are not a sufficient indicator, e.g. during the night. You may plot a histogram showing how the `clouds` values are distributed during the 24 hours of a day:"
   ]
  },
  {
   "cell_type": "code",
   "execution_count": null,
   "metadata": {},
   "outputs": [],
   "source": [
    "plt.hist2d(weather.dropna().hour.values, weather.dropna().clouds.values);"
   ]
  },
  {
   "cell_type": "markdown",
   "metadata": {},
   "source": [
    "### Question 12\n",
    "\n",
    "Why is the `clouds` column alone not a good indicator for the solar panel output?\n",
    "\n",
    "Answer this question in max. 50 words and assign your string answer to the variable `question_clouds`."
   ]
  },
  {
   "cell_type": "code",
   "execution_count": null,
   "metadata": {
    "collapsed": true
   },
   "outputs": [],
   "source": [
    "#// BEGIN_TODO [Q12]\n",
    "#// END_TODO [Q12]"
   ]
  },
  {
   "cell_type": "markdown",
   "metadata": {},
   "source": [
    "While the `clouds` column alone may not be sufficient for predicting the solar planel output, it can be used in combination with other features. Therefore, one way of improving the simple linear model could be to extend it with more features. You can gain insight into which features could be relevant by plotting the relationship between the features and the labels."
   ]
  },
  {
   "cell_type": "code",
   "execution_count": null,
   "metadata": {
    "collapsed": true
   },
   "outputs": [],
   "source": [
    "# TODO: use the scatter matrix graph to explore the relationship between the features"
   ]
  },
  {
   "cell_type": "markdown",
   "metadata": {},
   "source": [
    "### Question 13 ###\n",
    "\n",
    "Which features are most promising for predicting the solar panel output? Select two most promising features:\n",
    "\n",
    "- `'year'`\n",
    "- `'month'`\n",
    "- `'day'`\n",
    "- `'hour'`\n",
    "- `'air pressure'`\n",
    "- `'humidity'`\n",
    "- `'chill'`\n",
    "- `'visibility'`\n",
    "- `'wind speed'`\n",
    "- `'temperature'`\n",
    "\n",
    "Assign a list of strings corresponding to the promising features to variable `question_features`."
   ]
  },
  {
   "cell_type": "code",
   "execution_count": null,
   "metadata": {
    "collapsed": true
   },
   "outputs": [],
   "source": [
    "#// BEGIN_TODO [Q13]\n",
    "#// END_TODO [Q13]"
   ]
  },
  {
   "cell_type": "markdown",
   "metadata": {},
   "source": [
    "Note that using additional features may require aggregating them per hour. The `clouds` feature was aggregated taking the maximum value within a given hour, but this may not be suitable for all features."
   ]
  },
  {
   "cell_type": "markdown",
   "metadata": {},
   "source": [
    "### Question 14 ###\n",
    "\n",
    "Using your new-found knowledge of the features, re-define the data on which you train and evaluate your model. Try to improve your model as much as possible by only changing the selection of features.\n",
    "\n",
    "Assign your new data, new model and the corresponding MAD score to the variables `improved_data`, `improved_model`, `improved_mad`, respectively."
   ]
  },
  {
   "cell_type": "code",
   "execution_count": null,
   "metadata": {
    "collapsed": true
   },
   "outputs": [],
   "source": [
    "#// BEGIN_TODO [Q14]\n",
    "#// END_TODO [Q14]"
   ]
  },
  {
   "cell_type": "markdown",
   "metadata": {},
   "source": [
    "#### Choose a more or less flexible model\n",
    "\n",
    "Another way is to add flexibility to the model e.g. by changing it to a polynomial model or a neural network. You can read more about simple extensions of the linear model in Section 3.3.2 and 6.2 of \"Introduction to Statistical Learning\"."
   ]
  },
  {
   "cell_type": "code",
   "execution_count": null,
   "metadata": {
    "collapsed": true
   },
   "outputs": [],
   "source": [
    "# TODO: explore other models for predicting the solar panel output and evaluate their perfromance in terms of R2 score and mean absolute deviation"
   ]
  },
  {
   "cell_type": "markdown",
   "metadata": {},
   "source": [
    "### Question 15 ###\n",
    "\n",
    "Select the model you find best. Why did you chose this model?\n",
    "\n",
    "Answer this question in max. 50 words and assign your string answer to the variable `question_model_selection`."
   ]
  },
  {
   "cell_type": "code",
   "execution_count": null,
   "metadata": {
    "collapsed": true
   },
   "outputs": [],
   "source": [
    "#// BEGIN_TODO [Q15]\n",
    "#// END_TODO [Q15]"
   ]
  },
  {
   "cell_type": "markdown",
   "metadata": {},
   "source": [
    "### Simulate the forecasting\n",
    "\n",
    "The `weather_test.csv` file contains the weather data that was held out from `weather_train.csv` used for training the solar panel output predictor. This data simulates the weather forcasts and is used for evaluating how your model would perform if it was deployed."
   ]
  },
  {
   "cell_type": "code",
   "execution_count": null,
   "metadata": {},
   "outputs": [],
   "source": [
    "weather_test = pd.read_csv('./data/weather_test.csv')\n",
    "weather_test.head()"
   ]
  },
  {
   "cell_type": "markdown",
   "metadata": {},
   "source": [
    "Provide the predictions for the hourly solar panel output for the given weather forecasts, i.e. populate the `production` column in the following data frame:"
   ]
  },
  {
   "cell_type": "code",
   "execution_count": null,
   "metadata": {
    "scrolled": true
   },
   "outputs": [],
   "source": [
    "prediction = weather_test.copy()\n",
    "times = pd.to_datetime(prediction[\"time\"])\n",
    "prediction['month'] = times.dt.month\n",
    "prediction['day'] = times.dt.dayofyear\n",
    "prediction['hour'] = times.dt.hour\n",
    "prediction = prediction.drop(prediction[prediction['hour'] == 0].index)\n",
    "prediction = prediction[['month', 'day', 'hour']]\n",
    "prediction = prediction.drop_duplicates().reset_index(drop=True)\n",
    "prediction['production'] = np.nan\n",
    "prediction.head()"
   ]
  },
  {
   "cell_type": "markdown",
   "metadata": {},
   "source": [
    "**Important:** your model will be evaluated on the held out test set. It is therefore safe to train your *final* model on the entire data set that was provided (rather than the X_train, y_train subsets from the train/test split above), to captures all of the information that is available to you."
   ]
  },
  {
   "cell_type": "markdown",
   "metadata": {},
   "source": [
    "### Question 16\n",
    "\n",
    "Fill in the `'production'` column in the prediction data frame with your predictions (do not reorder the rows). Assign the values from the `'production`' column as a Python list to the variable `forecast`."
   ]
  },
  {
   "cell_type": "code",
   "execution_count": null,
   "metadata": {
    "collapsed": true
   },
   "outputs": [],
   "source": [
    "#// BEGIN_TODO [Q16]\n",
    "#// END_TODO [Q16]"
   ]
  },
  {
   "cell_type": "markdown",
   "metadata": {},
   "source": [
    "For automating the evaluation of your predictions, call the evaluate function that is defined in the `evaluate.py` script (do not edit the code lines below!):"
   ]
  },
  {
   "cell_type": "code",
   "execution_count": null,
   "metadata": {
    "scrolled": true
   },
   "outputs": [],
   "source": [
    "from evaluate_stub import *\n",
    "evaluate(prediction)\n"
   ]
  },
  {
   "cell_type": "markdown",
   "metadata": {},
   "source": [
    "As a sanity check, make sure that the `prediction` data frame contains a `production` column and 805 rows.\n",
    "\n",
    "Your solution will be evaluated based on the mean absolute error metric."
   ]
  },
  {
   "cell_type": "markdown",
   "metadata": {},
   "source": [
    "### Question 17\n",
    "\n",
    "During the summer of 2018, the solar panels were cleaned. Can you determine from the data on which day the panels were cleaned?\n",
    "\n",
    "Assign your string answer as `dd.mm.yyyy` (e.g. `'27.03.2018'` for March 27th, 2018) to the variable `question_panel_cleaning`."
   ]
  },
  {
   "cell_type": "code",
   "execution_count": null,
   "metadata": {
    "collapsed": true
   },
   "outputs": [],
   "source": [
    "#// BEGIN_TODO [Q17]\n",
    "#// END_TODO [Q17]"
   ]
  },
  {
   "cell_type": "markdown",
   "metadata": {},
   "source": [
    "### Question 18\n",
    "\n",
    "On which days and at which time during the month of May 2018 was laundry done?\n",
    "\n",
    "Assign your answer as a list of `('HH:MM-dd.mm.yyyy', 'HH:MM-dd.mm.yyyy')` tuples representing the begin and end times (e.g. `('27.03.2018-11:15', '27.03.2018-12:45')` for a laundry cycle on March 27th, 2018 between 11:15 and 12:45) to the variable `question_laundry`."
   ]
  },
  {
   "cell_type": "code",
   "execution_count": null,
   "metadata": {
    "collapsed": true
   },
   "outputs": [],
   "source": [
    "#// BEGIN_TODO [Q18]\n",
    "#// END_TODO [Q18]"
   ]
  },
  {
   "cell_type": "code",
   "execution_count": null,
   "metadata": {
    "collapsed": true
   },
   "outputs": [],
   "source": []
  }
 ],
 "metadata": {
  "kernelspec": {
   "display_name": "Python 3",
   "language": "python",
   "name": "python3"
  },
  "language_info": {
   "codemirror_mode": {
    "name": "ipython",
    "version": 3
   },
   "file_extension": ".py",
   "mimetype": "text/x-python",
   "name": "python",
   "nbconvert_exporter": "python",
   "pygments_lexer": "ipython3",
   "version": "3.5.3"
  }
 },
 "nbformat": 4,
 "nbformat_minor": 2
}
